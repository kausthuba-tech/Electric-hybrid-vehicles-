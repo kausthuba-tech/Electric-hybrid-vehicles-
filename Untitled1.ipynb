{
 "cells": [
  {
   "cell_type": "code",
   "execution_count": 1,
   "id": "9db22af3",
   "metadata": {},
   "outputs": [],
   "source": [
    "import pandas as pd \n",
    "import numpy as np\n",
    "import matplotlib.pyplot as plt\n",
    "import seaborn as sns"
   ]
  },
  {
   "cell_type": "code",
   "execution_count": 28,
   "id": "f4a7aad0",
   "metadata": {},
   "outputs": [
    {
     "name": "stdout",
     "output_type": "stream",
     "text": [
      "   Age Profession Marrital Status      Education  No of Dependents  \\\n",
      "0   27   Salaried          Single  Post Graduate                 0   \n",
      "1   35   Salaried         Married  Post Graduate                 2   \n",
      "2   45   Business         Married       Graduate                 4   \n",
      "3   41   Business         Married  Post Graduate                 3   \n",
      "4   31   Salaried         Married  Post Graduate                 2   \n",
      "\n",
      "  Personal loan House Loan Wife Working   Salary  Wife Salary  Total Salary  \\\n",
      "0           Yes         No           No   800000            0        800000   \n",
      "1           Yes        Yes          Yes  1400000       600000       2000000   \n",
      "2           Yes        Yes           No  1800000            0       1800000   \n",
      "3            No         No          Yes  1600000       600000       2200000   \n",
      "4           Yes         No          Yes  1800000       800000       2600000   \n",
      "\n",
      "     Make    Price  \n",
      "0     i20   800000  \n",
      "1    Ciaz  1000000  \n",
      "2  Duster  1200000  \n",
      "3    City  1200000  \n",
      "4     SUV  1600000  \n",
      "    Age  Profession  No of Dependents  Personal loan  House Loan   Salary  \\\n",
      "0    27           0                 0              1           0   800000   \n",
      "1    35           0                 2              1           1  1400000   \n",
      "2    45           1                 4              1           1  1800000   \n",
      "3    41           1                 3              0           0  1600000   \n",
      "4    31           0                 2              1           0  1800000   \n",
      "..  ...         ...               ...            ...         ...      ...   \n",
      "94   27           1                 0              0           0  2400000   \n",
      "95   50           0                 3              0           0  3800000   \n",
      "96   51           1                 2              1           1  2200000   \n",
      "97   51           0                 2              0           0  2700000   \n",
      "98   51           0                 2              1           1  2200000   \n",
      "\n",
      "    Wife Salary  Total Salary  Make    Price  \n",
      "0             0        800000   5.0   800000  \n",
      "1        600000       2000000   0.0  1000000  \n",
      "2             0       1800000   6.0  1200000  \n",
      "3        600000       2200000   4.0  1200000  \n",
      "4        800000       2600000   1.0  1600000  \n",
      "..          ...           ...   ...      ...  \n",
      "94            0       2400000   1.0  1600000  \n",
      "95      1300000       5100000   1.0  1600000  \n",
      "96            0       2200000   0.0  1100000  \n",
      "97      1300000       4000000   NaN  1500000  \n",
      "98            0       2200000   0.0  1100000  \n",
      "\n",
      "[99 rows x 10 columns]\n"
     ]
    }
   ],
   "source": [
    "url=r\"C:\\Users\\home\\Downloads\\Indian_automoble_buying_behavour_study_1.0.csv\"\n",
    "df=pd.read_csv(url)\n",
    "print(df.head())\n",
    "data=df.drop(['Marrital Status','Education','Wife Working'],axis=1)\n",
    "print(EV_df)"
   ]
  },
  {
   "cell_type": "code",
   "execution_count": 30,
   "id": "47d0ca8e",
   "metadata": {},
   "outputs": [
    {
     "name": "stdout",
     "output_type": "stream",
     "text": [
      "(99, 13)\n"
     ]
    }
   ],
   "source": [
    "print(df.shape)\n"
   ]
  },
  {
   "cell_type": "code",
   "execution_count": 6,
   "id": "4f858282",
   "metadata": {},
   "outputs": [
    {
     "name": "stdout",
     "output_type": "stream",
     "text": [
      "Age                 0\n",
      "Profession          0\n",
      "Marrital Status     0\n",
      "Education           0\n",
      "No of Dependents    0\n",
      "Personal loan       0\n",
      "House Loan          0\n",
      "Wife Working        0\n",
      "Salary              0\n",
      "Wife Salary         0\n",
      "Total Salary        0\n",
      "Make                0\n",
      "Price               0\n",
      "dtype: int64\n"
     ]
    }
   ],
   "source": [
    "print(df.isnull().sum())"
   ]
  },
  {
   "cell_type": "code",
   "execution_count": 9,
   "id": "aed20228",
   "metadata": {},
   "outputs": [
    {
     "name": "stdout",
     "output_type": "stream",
     "text": [
      "    Age Profession  No of Dependents Personal loan House Loan   Salary  \\\n",
      "0    27   Salaried                 0           Yes         No   800000   \n",
      "1    35   Salaried                 2           Yes        Yes  1400000   \n",
      "2    45   Business                 4           Yes        Yes  1800000   \n",
      "3    41   Business                 3            No         No  1600000   \n",
      "4    31   Salaried                 2           Yes         No  1800000   \n",
      "..  ...        ...               ...           ...        ...      ...   \n",
      "94   27   Business                 0            No         No  2400000   \n",
      "95   50   Salaried                 3            No         No  3800000   \n",
      "96   51   Business                 2           Yes        Yes  2200000   \n",
      "97   51   Salaried                 2            No         No  2700000   \n",
      "98   51   Salaried                 2           Yes        Yes  2200000   \n",
      "\n",
      "    Wife Salary  Total Salary    Make    Price  \n",
      "0             0        800000     i20   800000  \n",
      "1        600000       2000000    Ciaz  1000000  \n",
      "2             0       1800000  Duster  1200000  \n",
      "3        600000       2200000    City  1200000  \n",
      "4        800000       2600000     SUV  1600000  \n",
      "..          ...           ...     ...      ...  \n",
      "94            0       2400000     SUV  1600000  \n",
      "95      1300000       5100000     SUV  1600000  \n",
      "96            0       2200000    Ciaz  1100000  \n",
      "97      1300000       4000000  Creata  1500000  \n",
      "98            0       2200000    Ciaz  1100000  \n",
      "\n",
      "[99 rows x 10 columns]\n"
     ]
    }
   ],
   "source": [
    "\n",
    "print(df)"
   ]
  },
  {
   "cell_type": "code",
   "execution_count": 31,
   "id": "1abc9d08",
   "metadata": {},
   "outputs": [
    {
     "name": "stdout",
     "output_type": "stream",
     "text": [
      "    Age Profession  No of Dependents Personal loan House Loan   Salary  \\\n",
      "0    27   Salaried                 0           Yes         No   800000   \n",
      "1    35   Salaried                 2           Yes        Yes  1400000   \n",
      "2    45   Business                 4           Yes        Yes  1800000   \n",
      "3    41   Business                 3            No         No  1600000   \n",
      "4    31   Salaried                 2           Yes         No  1800000   \n",
      "..  ...        ...               ...           ...        ...      ...   \n",
      "94   27   Business                 0            No         No  2400000   \n",
      "95   50   Salaried                 3            No         No  3800000   \n",
      "96   51   Business                 2           Yes        Yes  2200000   \n",
      "97   51   Salaried                 2            No         No  2700000   \n",
      "98   51   Salaried                 2           Yes        Yes  2200000   \n",
      "\n",
      "    Wife Salary  Total Salary    Make    Price  \n",
      "0             0        800000     i20   800000  \n",
      "1        600000       2000000    Ciaz  1000000  \n",
      "2             0       1800000  Duster  1200000  \n",
      "3        600000       2200000    City  1200000  \n",
      "4        800000       2600000     SUV  1600000  \n",
      "..          ...           ...     ...      ...  \n",
      "94            0       2400000     SUV  1600000  \n",
      "95      1300000       5100000     SUV  1600000  \n",
      "96            0       2200000    Ciaz  1100000  \n",
      "97      1300000       4000000  Creata  1500000  \n",
      "98            0       2200000    Ciaz  1100000  \n",
      "\n",
      "[99 rows x 10 columns]\n"
     ]
    }
   ],
   "source": [
    "print(data)"
   ]
  },
  {
   "cell_type": "code",
   "execution_count": 32,
   "id": "773aec5b",
   "metadata": {},
   "outputs": [
    {
     "name": "stdout",
     "output_type": "stream",
     "text": [
      "   Age  Profession  No of Dependents Personal loan House Loan   Salary  \\\n",
      "0   27           0                 0           Yes         No   800000   \n",
      "1   35           0                 2           Yes        Yes  1400000   \n",
      "2   45           1                 4           Yes        Yes  1800000   \n",
      "3   41           1                 3            No         No  1600000   \n",
      "4   31           0                 2           Yes         No  1800000   \n",
      "\n",
      "   Wife Salary  Total Salary    Make    Price  \n",
      "0            0        800000     i20   800000  \n",
      "1       600000       2000000    Ciaz  1000000  \n",
      "2            0       1800000  Duster  1200000  \n",
      "3       600000       2200000    City  1200000  \n",
      "4       800000       2600000     SUV  1600000  \n"
     ]
    }
   ],
   "source": [
    "data[\"Profession\"]= data[\"Profession\"].map({\"Salaried\" : 0, \"Business\" : 1})\n",
    "print(data.head())"
   ]
  },
  {
   "cell_type": "code",
   "execution_count": 33,
   "id": "fb5e428f",
   "metadata": {},
   "outputs": [
    {
     "name": "stdout",
     "output_type": "stream",
     "text": [
      "   Age  Profession  No of Dependents  Personal loan House Loan   Salary  \\\n",
      "0   27           0                 0              1         No   800000   \n",
      "1   35           0                 2              1        Yes  1400000   \n",
      "2   45           1                 4              1        Yes  1800000   \n",
      "3   41           1                 3              0         No  1600000   \n",
      "4   31           0                 2              1         No  1800000   \n",
      "\n",
      "   Wife Salary  Total Salary    Make    Price  \n",
      "0            0        800000     i20   800000  \n",
      "1       600000       2000000    Ciaz  1000000  \n",
      "2            0       1800000  Duster  1200000  \n",
      "3       600000       2200000    City  1200000  \n",
      "4       800000       2600000     SUV  1600000  \n"
     ]
    }
   ],
   "source": [
    "data[\"Personal loan\"]= data[\"Personal loan\"].map({\"No\" : 0, \"Yes\" : 1})\n",
    "print(data.head())"
   ]
  },
  {
   "cell_type": "code",
   "execution_count": 34,
   "id": "ceba441b",
   "metadata": {},
   "outputs": [
    {
     "name": "stdout",
     "output_type": "stream",
     "text": [
      "   Age  Profession  No of Dependents  Personal loan  House Loan   Salary  \\\n",
      "0   27           0                 0              1           0   800000   \n",
      "1   35           0                 2              1           1  1400000   \n",
      "2   45           1                 4              1           1  1800000   \n",
      "3   41           1                 3              0           0  1600000   \n",
      "4   31           0                 2              1           0  1800000   \n",
      "\n",
      "   Wife Salary  Total Salary    Make    Price  \n",
      "0            0        800000     i20   800000  \n",
      "1       600000       2000000    Ciaz  1000000  \n",
      "2            0       1800000  Duster  1200000  \n",
      "3       600000       2200000    City  1200000  \n",
      "4       800000       2600000     SUV  1600000  \n"
     ]
    }
   ],
   "source": [
    "data[\"House Loan\"]= data[\"House Loan\"].map({\"No\" : 0, \"Yes\" : 1})\n",
    "print(data.head())"
   ]
  },
  {
   "cell_type": "code",
   "execution_count": 35,
   "id": "2893358d",
   "metadata": {},
   "outputs": [
    {
     "name": "stdout",
     "output_type": "stream",
     "text": [
      "   Age  Profession  No of Dependents  Personal loan  House Loan   Salary  \\\n",
      "0   27           0                 0              1           0   800000   \n",
      "1   35           0                 2              1           1  1400000   \n",
      "2   45           1                 4              1           1  1800000   \n",
      "3   41           1                 3              0           0  1600000   \n",
      "4   31           0                 2              1           0  1800000   \n",
      "\n",
      "   Wife Salary  Total Salary  Make    Price  \n",
      "0            0        800000   5.0   800000  \n",
      "1       600000       2000000   0.0  1000000  \n",
      "2            0       1800000   6.0  1200000  \n",
      "3       600000       2200000   4.0  1200000  \n",
      "4       800000       2600000   1.0  1600000  \n"
     ]
    }
   ],
   "source": [
    "data[\"Make\"]= data[\"Make\"].map({\"Ciaz\" : 0, \"SUV\" : 1, \"Baleno\": 2, \"Creta\": 3, \"City\": 4, \"i20\": 5,\"Duster\": 6, \"Verna\": 7, \"Luxuray\": 8})\n",
    "print(data.head())"
   ]
  },
  {
   "cell_type": "code",
   "execution_count": 45,
   "id": "56019483",
   "metadata": {},
   "outputs": [
    {
     "ename": "ValueError",
     "evalue": "Input contains NaN, infinity or a value too large for dtype('float64').",
     "output_type": "error",
     "traceback": [
      "\u001b[1;31m---------------------------------------------------------------------------\u001b[0m",
      "\u001b[1;31mValueError\u001b[0m                                Traceback (most recent call last)",
      "\u001b[1;32m<ipython-input-45-64bb381343b5>\u001b[0m in \u001b[0;36m<module>\u001b[1;34m\u001b[0m\n\u001b[0;32m      1\u001b[0m \u001b[1;32mfrom\u001b[0m \u001b[0msklearn\u001b[0m\u001b[1;33m.\u001b[0m\u001b[0mpreprocessing\u001b[0m \u001b[1;32mimport\u001b[0m \u001b[0mnormalize\u001b[0m\u001b[1;33m\u001b[0m\u001b[1;33m\u001b[0m\u001b[0m\n\u001b[1;32m----> 2\u001b[1;33m \u001b[0mdata_scaled\u001b[0m \u001b[1;33m=\u001b[0m \u001b[0mnormalize\u001b[0m\u001b[1;33m(\u001b[0m\u001b[0mdata\u001b[0m\u001b[1;33m)\u001b[0m\u001b[1;33m\u001b[0m\u001b[1;33m\u001b[0m\u001b[0m\n\u001b[0m\u001b[0;32m      3\u001b[0m \u001b[0mdata_scaled\u001b[0m\u001b[1;33m=\u001b[0m\u001b[0mpd\u001b[0m\u001b[1;33m.\u001b[0m\u001b[0mDataFrame\u001b[0m\u001b[1;33m(\u001b[0m\u001b[0mdata_scaled\u001b[0m\u001b[1;33m,\u001b[0m \u001b[0mcolumns\u001b[0m\u001b[1;33m=\u001b[0m\u001b[0mdata\u001b[0m\u001b[1;33m.\u001b[0m\u001b[0mcolumns\u001b[0m\u001b[1;33m)\u001b[0m\u001b[1;33m\u001b[0m\u001b[1;33m\u001b[0m\u001b[0m\n\u001b[0;32m      4\u001b[0m \u001b[0mdata_scaled\u001b[0m\u001b[1;33m.\u001b[0m\u001b[0mhead\u001b[0m\u001b[1;33m(\u001b[0m\u001b[1;33m)\u001b[0m\u001b[1;33m\u001b[0m\u001b[1;33m\u001b[0m\u001b[0m\n",
      "\u001b[1;32m~\\anaconda3\\lib\\site-packages\\sklearn\\utils\\validation.py\u001b[0m in \u001b[0;36minner_f\u001b[1;34m(*args, **kwargs)\u001b[0m\n\u001b[0;32m     61\u001b[0m             \u001b[0mextra_args\u001b[0m \u001b[1;33m=\u001b[0m \u001b[0mlen\u001b[0m\u001b[1;33m(\u001b[0m\u001b[0margs\u001b[0m\u001b[1;33m)\u001b[0m \u001b[1;33m-\u001b[0m \u001b[0mlen\u001b[0m\u001b[1;33m(\u001b[0m\u001b[0mall_args\u001b[0m\u001b[1;33m)\u001b[0m\u001b[1;33m\u001b[0m\u001b[1;33m\u001b[0m\u001b[0m\n\u001b[0;32m     62\u001b[0m             \u001b[1;32mif\u001b[0m \u001b[0mextra_args\u001b[0m \u001b[1;33m<=\u001b[0m \u001b[1;36m0\u001b[0m\u001b[1;33m:\u001b[0m\u001b[1;33m\u001b[0m\u001b[1;33m\u001b[0m\u001b[0m\n\u001b[1;32m---> 63\u001b[1;33m                 \u001b[1;32mreturn\u001b[0m \u001b[0mf\u001b[0m\u001b[1;33m(\u001b[0m\u001b[1;33m*\u001b[0m\u001b[0margs\u001b[0m\u001b[1;33m,\u001b[0m \u001b[1;33m**\u001b[0m\u001b[0mkwargs\u001b[0m\u001b[1;33m)\u001b[0m\u001b[1;33m\u001b[0m\u001b[1;33m\u001b[0m\u001b[0m\n\u001b[0m\u001b[0;32m     64\u001b[0m \u001b[1;33m\u001b[0m\u001b[0m\n\u001b[0;32m     65\u001b[0m             \u001b[1;31m# extra_args > 0\u001b[0m\u001b[1;33m\u001b[0m\u001b[1;33m\u001b[0m\u001b[1;33m\u001b[0m\u001b[0m\n",
      "\u001b[1;32m~\\anaconda3\\lib\\site-packages\\sklearn\\preprocessing\\_data.py\u001b[0m in \u001b[0;36mnormalize\u001b[1;34m(X, norm, axis, copy, return_norm)\u001b[0m\n\u001b[0;32m   1902\u001b[0m         \u001b[1;32mraise\u001b[0m \u001b[0mValueError\u001b[0m\u001b[1;33m(\u001b[0m\u001b[1;34m\"'%d' is not a supported axis\"\u001b[0m \u001b[1;33m%\u001b[0m \u001b[0maxis\u001b[0m\u001b[1;33m)\u001b[0m\u001b[1;33m\u001b[0m\u001b[1;33m\u001b[0m\u001b[0m\n\u001b[0;32m   1903\u001b[0m \u001b[1;33m\u001b[0m\u001b[0m\n\u001b[1;32m-> 1904\u001b[1;33m     X = check_array(X, accept_sparse=sparse_format, copy=copy,\n\u001b[0m\u001b[0;32m   1905\u001b[0m                     estimator='the normalize function', dtype=FLOAT_DTYPES)\n\u001b[0;32m   1906\u001b[0m     \u001b[1;32mif\u001b[0m \u001b[0maxis\u001b[0m \u001b[1;33m==\u001b[0m \u001b[1;36m0\u001b[0m\u001b[1;33m:\u001b[0m\u001b[1;33m\u001b[0m\u001b[1;33m\u001b[0m\u001b[0m\n",
      "\u001b[1;32m~\\anaconda3\\lib\\site-packages\\sklearn\\utils\\validation.py\u001b[0m in \u001b[0;36minner_f\u001b[1;34m(*args, **kwargs)\u001b[0m\n\u001b[0;32m     61\u001b[0m             \u001b[0mextra_args\u001b[0m \u001b[1;33m=\u001b[0m \u001b[0mlen\u001b[0m\u001b[1;33m(\u001b[0m\u001b[0margs\u001b[0m\u001b[1;33m)\u001b[0m \u001b[1;33m-\u001b[0m \u001b[0mlen\u001b[0m\u001b[1;33m(\u001b[0m\u001b[0mall_args\u001b[0m\u001b[1;33m)\u001b[0m\u001b[1;33m\u001b[0m\u001b[1;33m\u001b[0m\u001b[0m\n\u001b[0;32m     62\u001b[0m             \u001b[1;32mif\u001b[0m \u001b[0mextra_args\u001b[0m \u001b[1;33m<=\u001b[0m \u001b[1;36m0\u001b[0m\u001b[1;33m:\u001b[0m\u001b[1;33m\u001b[0m\u001b[1;33m\u001b[0m\u001b[0m\n\u001b[1;32m---> 63\u001b[1;33m                 \u001b[1;32mreturn\u001b[0m \u001b[0mf\u001b[0m\u001b[1;33m(\u001b[0m\u001b[1;33m*\u001b[0m\u001b[0margs\u001b[0m\u001b[1;33m,\u001b[0m \u001b[1;33m**\u001b[0m\u001b[0mkwargs\u001b[0m\u001b[1;33m)\u001b[0m\u001b[1;33m\u001b[0m\u001b[1;33m\u001b[0m\u001b[0m\n\u001b[0m\u001b[0;32m     64\u001b[0m \u001b[1;33m\u001b[0m\u001b[0m\n\u001b[0;32m     65\u001b[0m             \u001b[1;31m# extra_args > 0\u001b[0m\u001b[1;33m\u001b[0m\u001b[1;33m\u001b[0m\u001b[1;33m\u001b[0m\u001b[0m\n",
      "\u001b[1;32m~\\anaconda3\\lib\\site-packages\\sklearn\\utils\\validation.py\u001b[0m in \u001b[0;36mcheck_array\u001b[1;34m(array, accept_sparse, accept_large_sparse, dtype, order, copy, force_all_finite, ensure_2d, allow_nd, ensure_min_samples, ensure_min_features, estimator)\u001b[0m\n\u001b[0;32m    661\u001b[0m \u001b[1;33m\u001b[0m\u001b[0m\n\u001b[0;32m    662\u001b[0m         \u001b[1;32mif\u001b[0m \u001b[0mforce_all_finite\u001b[0m\u001b[1;33m:\u001b[0m\u001b[1;33m\u001b[0m\u001b[1;33m\u001b[0m\u001b[0m\n\u001b[1;32m--> 663\u001b[1;33m             _assert_all_finite(array,\n\u001b[0m\u001b[0;32m    664\u001b[0m                                allow_nan=force_all_finite == 'allow-nan')\n\u001b[0;32m    665\u001b[0m \u001b[1;33m\u001b[0m\u001b[0m\n",
      "\u001b[1;32m~\\anaconda3\\lib\\site-packages\\sklearn\\utils\\validation.py\u001b[0m in \u001b[0;36m_assert_all_finite\u001b[1;34m(X, allow_nan, msg_dtype)\u001b[0m\n\u001b[0;32m    101\u001b[0m                 not allow_nan and not np.isfinite(X).all()):\n\u001b[0;32m    102\u001b[0m             \u001b[0mtype_err\u001b[0m \u001b[1;33m=\u001b[0m \u001b[1;34m'infinity'\u001b[0m \u001b[1;32mif\u001b[0m \u001b[0mallow_nan\u001b[0m \u001b[1;32melse\u001b[0m \u001b[1;34m'NaN, infinity'\u001b[0m\u001b[1;33m\u001b[0m\u001b[1;33m\u001b[0m\u001b[0m\n\u001b[1;32m--> 103\u001b[1;33m             raise ValueError(\n\u001b[0m\u001b[0;32m    104\u001b[0m                     \u001b[0mmsg_err\u001b[0m\u001b[1;33m.\u001b[0m\u001b[0mformat\u001b[0m\u001b[1;33m\u001b[0m\u001b[1;33m\u001b[0m\u001b[0m\n\u001b[0;32m    105\u001b[0m                     (type_err,\n",
      "\u001b[1;31mValueError\u001b[0m: Input contains NaN, infinity or a value too large for dtype('float64')."
     ]
    }
   ],
   "source": [
    "from sklearn.preprocessing import normalize\n",
    "data_scaled = normalize(data)\n",
    "data_scaled=pd.DataFrame(data_scaled, columns=data.columns)\n",
    "data_scaled.head()\n"
   ]
  },
  {
   "cell_type": "code",
   "execution_count": 42,
   "id": "3f7f2347",
   "metadata": {},
   "outputs": [
    {
     "ename": "NameError",
     "evalue": "name 'data_scaled' is not defined",
     "output_type": "error",
     "traceback": [
      "\u001b[1;31m---------------------------------------------------------------------------\u001b[0m",
      "\u001b[1;31mNameError\u001b[0m                                 Traceback (most recent call last)",
      "\u001b[1;32m<ipython-input-42-4e7d4c6273eb>\u001b[0m in \u001b[0;36m<module>\u001b[1;34m\u001b[0m\n\u001b[0;32m      1\u001b[0m \u001b[1;32mfrom\u001b[0m \u001b[0msklearn\u001b[0m\u001b[1;33m.\u001b[0m\u001b[0mcluster\u001b[0m \u001b[1;32mimport\u001b[0m \u001b[0mKMeans\u001b[0m\u001b[1;33m\u001b[0m\u001b[1;33m\u001b[0m\u001b[0m\n\u001b[0;32m      2\u001b[0m \u001b[0mk_mean\u001b[0m \u001b[1;33m=\u001b[0m \u001b[0mKMeans\u001b[0m\u001b[1;33m(\u001b[0m\u001b[0mn_clusters\u001b[0m\u001b[1;33m=\u001b[0m\u001b[1;36m2\u001b[0m\u001b[1;33m)\u001b[0m\u001b[1;33m\u001b[0m\u001b[1;33m\u001b[0m\u001b[0m\n\u001b[1;32m----> 3\u001b[1;33m \u001b[0mk_mean\u001b[0m\u001b[1;33m.\u001b[0m\u001b[0mfit\u001b[0m\u001b[1;33m(\u001b[0m\u001b[0mdata_scaled\u001b[0m\u001b[1;33m)\u001b[0m\u001b[1;33m\u001b[0m\u001b[1;33m\u001b[0m\u001b[0m\n\u001b[0m",
      "\u001b[1;31mNameError\u001b[0m: name 'data_scaled' is not defined"
     ]
    }
   ],
   "source": [
    "from sklearn.cluster import KMeans\n",
    "k_mean = KMeans(n_clusters=2)\n",
    "k_mean.fit(data_scaled)\n"
   ]
  },
  {
   "cell_type": "code",
   "execution_count": null,
   "id": "c20c90e5",
   "metadata": {},
   "outputs": [],
   "source": []
  }
 ],
 "metadata": {
  "kernelspec": {
   "display_name": "Python 3",
   "language": "python",
   "name": "python3"
  },
  "language_info": {
   "codemirror_mode": {
    "name": "ipython",
    "version": 3
   },
   "file_extension": ".py",
   "mimetype": "text/x-python",
   "name": "python",
   "nbconvert_exporter": "python",
   "pygments_lexer": "ipython3",
   "version": "3.8.8"
  }
 },
 "nbformat": 4,
 "nbformat_minor": 5
}
