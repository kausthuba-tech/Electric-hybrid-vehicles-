{
 "cells": [
  {
   "cell_type": "code",
   "execution_count": 49,
   "id": "bff4d3fe",
   "metadata": {},
   "outputs": [],
   "source": [
    "import pandas as pd \n",
    "import numpy as np\n",
    "from kmodes.kprototypes import KPrototypes\n",
    "\n",
    "\n"
   ]
  },
  {
   "cell_type": "code",
   "execution_count": 5,
   "id": "58c7abb6",
   "metadata": {},
   "outputs": [
    {
     "name": "stdout",
     "output_type": "stream",
     "text": [
      "   Age Profession Marrital Status      Education  No of Dependents  \\\n",
      "0   27   Salaried          Single  Post Graduate                 0   \n",
      "1   35   Salaried         Married  Post Graduate                 2   \n",
      "2   45   Business         Married       Graduate                 4   \n",
      "3   41   Business         Married  Post Graduate                 3   \n",
      "4   31   Salaried         Married  Post Graduate                 2   \n",
      "\n",
      "  Personal loan House Loan Wife Working   Salary  Wife Salary  Total Salary  \\\n",
      "0           Yes         No           No   800000            0        800000   \n",
      "1           Yes        Yes          Yes  1400000       600000       2000000   \n",
      "2           Yes        Yes           No  1800000            0       1800000   \n",
      "3            No         No          Yes  1600000       600000       2200000   \n",
      "4           Yes         No          Yes  1800000       800000       2600000   \n",
      "\n",
      "     Make    Price  \n",
      "0     i20   800000  \n",
      "1    Ciaz  1000000  \n",
      "2  Duster  1200000  \n",
      "3    City  1200000  \n",
      "4     SUV  1600000  \n"
     ]
    }
   ],
   "source": [
    "url=r\"C:\\Users\\home\\Downloads\\Indian_automoble_buying_behavour_study_1.0.csv\"\n",
    "df=pd.read_csv(url)\n",
    "print(df.head())"
   ]
  },
  {
   "cell_type": "code",
   "execution_count": 11,
   "id": "fc5ac18a",
   "metadata": {},
   "outputs": [
    {
     "name": "stdout",
     "output_type": "stream",
     "text": [
      "    Age Profession Marrital Status      Education  No of Dependents  \\\n",
      "0    27   Salaried          Single  Post Graduate                 0   \n",
      "1    35   Salaried         Married  Post Graduate                 2   \n",
      "2    45   Business         Married       Graduate                 4   \n",
      "3    41   Business         Married  Post Graduate                 3   \n",
      "4    31   Salaried         Married  Post Graduate                 2   \n",
      "..  ...        ...             ...            ...               ...   \n",
      "94   27   Business          Single       Graduate                 0   \n",
      "95   50   Salaried         Married  Post Graduate                 3   \n",
      "96   51   Business         Married       Graduate                 2   \n",
      "97   51   Salaried         Married  Post Graduate                 2   \n",
      "98   51   Salaried         Married  Post Graduate                 2   \n",
      "\n",
      "   Personal loan House Loan Wife Working   Salary  Wife Salary  Total Salary  \\\n",
      "0            Yes         No           No   800000            0        800000   \n",
      "1            Yes        Yes          Yes  1400000       600000       2000000   \n",
      "2            Yes        Yes           No  1800000            0       1800000   \n",
      "3             No         No          Yes  1600000       600000       2200000   \n",
      "4            Yes         No          Yes  1800000       800000       2600000   \n",
      "..           ...        ...          ...      ...          ...           ...   \n",
      "94            No         No           No  2400000            0       2400000   \n",
      "95            No         No          Yes  3800000      1300000       5100000   \n",
      "96           Yes        Yes           No  2200000            0       2200000   \n",
      "97            No         No          Yes  2700000      1300000       4000000   \n",
      "98           Yes        Yes           No  2200000            0       2200000   \n",
      "\n",
      "      Make    Price  \n",
      "0      i20   800000  \n",
      "1     Ciaz  1000000  \n",
      "2   Duster  1200000  \n",
      "3     City  1200000  \n",
      "4      SUV  1600000  \n",
      "..     ...      ...  \n",
      "94     SUV  1600000  \n",
      "95     SUV  1600000  \n",
      "96    Ciaz  1100000  \n",
      "97  Creata  1500000  \n",
      "98    Ciaz  1100000  \n",
      "\n",
      "[99 rows x 13 columns]\n"
     ]
    }
   ],
   "source": [
    "print(df)"
   ]
  },
  {
   "cell_type": "code",
   "execution_count": 12,
   "id": "1e12ccae",
   "metadata": {},
   "outputs": [
    {
     "name": "stdout",
     "output_type": "stream",
     "text": [
      "    Age Profession  No of Dependents Personal loan House Loan   Salary  \\\n",
      "0    27   Salaried                 0           Yes         No   800000   \n",
      "1    35   Salaried                 2           Yes        Yes  1400000   \n",
      "2    45   Business                 4           Yes        Yes  1800000   \n",
      "3    41   Business                 3            No         No  1600000   \n",
      "4    31   Salaried                 2           Yes         No  1800000   \n",
      "..  ...        ...               ...           ...        ...      ...   \n",
      "94   27   Business                 0            No         No  2400000   \n",
      "95   50   Salaried                 3            No         No  3800000   \n",
      "96   51   Business                 2           Yes        Yes  2200000   \n",
      "97   51   Salaried                 2            No         No  2700000   \n",
      "98   51   Salaried                 2           Yes        Yes  2200000   \n",
      "\n",
      "    Wife Salary  Total Salary    Make    Price  \n",
      "0             0        800000     i20   800000  \n",
      "1        600000       2000000    Ciaz  1000000  \n",
      "2             0       1800000  Duster  1200000  \n",
      "3        600000       2200000    City  1200000  \n",
      "4        800000       2600000     SUV  1600000  \n",
      "..          ...           ...     ...      ...  \n",
      "94            0       2400000     SUV  1600000  \n",
      "95      1300000       5100000     SUV  1600000  \n",
      "96            0       2200000    Ciaz  1100000  \n",
      "97      1300000       4000000  Creata  1500000  \n",
      "98            0       2200000    Ciaz  1100000  \n",
      "\n",
      "[99 rows x 10 columns]\n"
     ]
    }
   ],
   "source": [
    "EV_df=df.drop(['Marrital Status','Education','Wife Working'],axis=1)\n",
    "print(EV_df)"
   ]
  },
  {
   "cell_type": "code",
   "execution_count": 13,
   "id": "69b34e9b",
   "metadata": {},
   "outputs": [
    {
     "name": "stdout",
     "output_type": "stream",
     "text": [
      "    Age Profession  No of Dependents Personal loan House Loan  Total Salary  \\\n",
      "0    27   Salaried                 0           Yes         No        800000   \n",
      "1    35   Salaried                 2           Yes        Yes       2000000   \n",
      "2    45   Business                 4           Yes        Yes       1800000   \n",
      "3    41   Business                 3            No         No       2200000   \n",
      "4    31   Salaried                 2           Yes         No       2600000   \n",
      "..  ...        ...               ...           ...        ...           ...   \n",
      "94   27   Business                 0            No         No       2400000   \n",
      "95   50   Salaried                 3            No         No       5100000   \n",
      "96   51   Business                 2           Yes        Yes       2200000   \n",
      "97   51   Salaried                 2            No         No       4000000   \n",
      "98   51   Salaried                 2           Yes        Yes       2200000   \n",
      "\n",
      "      Make    Price  \n",
      "0      i20   800000  \n",
      "1     Ciaz  1000000  \n",
      "2   Duster  1200000  \n",
      "3     City  1200000  \n",
      "4      SUV  1600000  \n",
      "..     ...      ...  \n",
      "94     SUV  1600000  \n",
      "95     SUV  1600000  \n",
      "96    Ciaz  1100000  \n",
      "97  Creata  1500000  \n",
      "98    Ciaz  1100000  \n",
      "\n",
      "[99 rows x 8 columns]\n"
     ]
    }
   ],
   "source": [
    "EV_df=EV_df.drop([\"Salary\",\"Wife Salary\"],axis=1)\n",
    "print(EV_df)"
   ]
  },
  {
   "cell_type": "code",
   "execution_count": 15,
   "id": "b165e1f4",
   "metadata": {},
   "outputs": [
    {
     "name": "stdout",
     "output_type": "stream",
     "text": [
      "[[27 'Salaried' 0 'Yes' 'No' 800000 'i20' 800000]\n",
      " [35 'Salaried' 2 'Yes' 'Yes' 2000000 'Ciaz' 1000000]\n",
      " [45 'Business' 4 'Yes' 'Yes' 1800000 'Duster' 1200000]\n",
      " [41 'Business' 3 'No' 'No' 2200000 'City' 1200000]\n",
      " [31 'Salaried' 2 'Yes' 'No' 2600000 'SUV' 1600000]\n",
      " [28 'Salaried' 3 'Yes' 'Yes' 900000 'Baleno' 700000]\n",
      " [31 'Salaried' 4 'No' 'No' 1800000 'City' 1200000]\n",
      " [33 'Business' 4 'No' 'No' 1400000 'Baleno' 700000]\n",
      " [34 'Business' 4 'No' 'No' 2000000 'Verna' 1100000]\n",
      " [34 'Salaried' 3 'Yes' 'Yes' 1900000 'i20' 800000]\n",
      " [35 'Salaried' 4 'No' 'No' 2000000 'SUV' 1600000]\n",
      " [35 'Salaried' 4 'Yes' 'Yes' 1400000 'Baleno' 700000]\n",
      " [29 'Salaried' 0 'No' 'No' 1700000 'Verna' 110000]\n",
      " [30 'Business' 2 'Yes' 'No' 1400000 'i20' 800000]\n",
      " [31 'Business' 3 'Yes' 'Yes' 1300000 'Baleno' 700000]\n",
      " [49 'Salaried' 4 'No' 'No' 4500000 'Luxuray' 3000000]\n",
      " [26 'Salaried' 0 'No' 'No' 800000 'i20' 800000]\n",
      " [27 'Salaried' 0 'Yes' 'No' 800000 'Baleno' 700000]\n",
      " [29 'Salaried' 2 'No' 'No' 900000 'City' 1200000]\n",
      " [30 'Salaried' 0 'No' 'No' 1300000 'Baleno' 700000]\n",
      " [37 'Salaried' 3 'No' 'Yes' 2500000 'City' 1200000]\n",
      " [35 'Business' 3 'No' 'Yes' 1900000 'i20' 800000]\n",
      " [36 'Business' 3 'No' 'No' 2400000 'SUV' 1600000]\n",
      " [35 'Business' 4 'No' 'No' 1400000 'Baleno' 700000]\n",
      " [35 'Salaried' 3 'Yes' 'No' 2000000 'Ciaz' 1100000]\n",
      " [35 'Salaried' 2 'No' 'No' 2900000 'SUV' 1600000]\n",
      " [35 'Salaried' 4 'Yes' 'Yes' 1300000 'Baleno' 700000]\n",
      " [36 'Business' 3 'No' 'No' 1600000 'i20' 800000]\n",
      " [36 'Salaried' 3 'Yes' 'Yes' 2600000 'Verna' 1200000]\n",
      " [36 'Salaried' 2 'No' 'No' 2700000 'SUV' 1600000]\n",
      " [41 'Business' 3 'No' 'No' 1100000 'Baleno' 700000]\n",
      " [41 'Salaried' 3 'No' 'No' 2100000 'Duster' 1300000]\n",
      " [41 'Salaried' 4 'No' 'Yes' 3000000 'Creata' 1500000]\n",
      " [43 'Business' 3 'No' 'No' 2200000 'Creata' 1500000]\n",
      " [42 'Salaried' 4 'Yes' 'Yes' 2100000 'Ciaz' 1100000]\n",
      " [42 'Salaried' 3 'No' 'No' 3700000 'SUV' 1600000]\n",
      " [29 'Business' 0 'No' 'No' 1600000 'City' 1200000]\n",
      " [30 'Salaried' 0 'No' 'No' 2100000 'Creata' 1500000]\n",
      " [30 'Business' 0 'No' 'No' 1400000 'SUV' 1600000]\n",
      " [31 'Salaried' 0 'No' 'No' 2200000 'Ciaz' 1100000]\n",
      " [31 'Business' 3 'Yes' 'Yes' 1700000 'i20' 800000]\n",
      " [32 'Business' 0 'No' 'No' 1400000 'Ciaz' 1100000]\n",
      " [32 'Salaried' 0 'No' 'No' 2400000 'SUV' 1600000]\n",
      " [34 'Salaried' 3 'No' 'No' 2300000 'Duster' 1300000]\n",
      " [34 'Salaried' 2 'Yes' 'Yes' 1600000 'i20' 800000]\n",
      " [34 'Salaried' 3 'No' 'Yes' 3600000 'Creata' 1500000]\n",
      " [36 'Business' 4 'No' 'No' 200000 'Ciaz' 1100000]\n",
      " [36 'Business' 2 'No' 'Yes' 2600000 'Duster' 1300000]\n",
      " [36 'Salaried' 2 'No' 'Yes' 1600000 'i20' 800000]\n",
      " [36 'Salaried' 3 'Yes' 'No' 3100000 'Creata' 1500000]\n",
      " [49 'Business' 4 'No' 'No' 2000000 'Duster' 1300000]\n",
      " [49 'Salaried' 3 'No' 'No' 4300000 'SUV' 1600000]\n",
      " [44 'Salaried' 4 'No' 'No' 2700000 'SUV' 1600000]\n",
      " [44 'Business' 3 'No' 'No' 3800000 'Creata' 1500000]\n",
      " [41 'Salaried' 2 'No' 'No' 4700000 'Luxuray' 3000000]\n",
      " [41 'Salaried' 3 'Yes' 'Yes' 3100000 'Creata' 1500000]\n",
      " [41 'Salaried' 3 'No' 'No' 2600000 'Ciaz' 1100000]\n",
      " [27 'Salaried' 0 'No' 'No' 1100000 'Baleno' 700000]\n",
      " [27 'Business' 0 'No' 'No' 1200000 'Ciaz' 1100000]\n",
      " [28 'Salaried' 0 'Yes' 'No' 900000 'Baleno' 700000]\n",
      " [28 'Salaried' 0 'No' 'No' 1400000 'City' 1200000]\n",
      " [30 'Salaried' 0 'No' 'No' 1500000 'Creata' 1500000]\n",
      " [31 'Business' 0 'No' 'No' 2000000 'SUV' 1500000]\n",
      " [31 'Salaried' 3 'Yes' 'Yes' 1800000 'Baleno' 700000]\n",
      " [31 'Salaried' 2 'No' 'Yes' 2100000 'Ciaz' 1100000]\n",
      " [39 'Business' 3 'No' 'No' 1600000 'Baleno' 700000]\n",
      " [39 'Business' 2 'Yes' 'Yes' 3600000 'Creata' 1500000]\n",
      " [39 'Salaried' 2 'No' 'No' 1900000 'City' 1200000]\n",
      " [39 'Salaried' 2 'Yes' 'Yes' 4000000 'Creata' 1500000]\n",
      " [37 'Business' 3 'No' 'No' 1700000 'Verna' 1200000]\n",
      " [37 'Business' 2 'No' 'No' 2700000 'Duster' 1500000]\n",
      " [37 'Salaried' 2 'No' 'Yes' 3200000 'SUV' 1600000]\n",
      " [37 'Salaried' 2 'No' 'No' 1300000 'Baleno' 700000]\n",
      " [35 'Salaried' 0 'No' 'No' 2500000 'SUV' 1600000]\n",
      " [36 'Business' 0 'No' 'No' 2000000 'City' 1200000]\n",
      " [36 'Salaried' 2 'No' 'No' 3600000 'Creata' 1500000]\n",
      " [36 'Business' 2 'Yes' 'Yes' 1900000 'i20' 800000]\n",
      " [36 'Business' 3 'No' 'Yes' 2900000 'SUV' 1600000]\n",
      " [44 'Salaried' 3 'No' 'No' 3100000 'Creata' 1500000]\n",
      " [45 'Salaried' 2 'No' 'Yes' 4500000 'SUV' 1600000]\n",
      " [46 'Salaried' 3 'Yes' 'Yes' 2100000 'Baleno' 800000]\n",
      " [44 'Business' 2 'No' 'No' 5200000 'SUV' 1600000]\n",
      " [43 'Salaried' 3 'Yes' 'Yes' 2400000 'Ciaz' 1100000]\n",
      " [42 'Salaried' 2 'No' 'Yes' 2900000 'Duster' 1300000]\n",
      " [42 'Salaried' 3 'Yes' 'Yes' 2700000 'i20' 800000]\n",
      " [42 'Business' 3 'Yes' 'Yes' 1800000 'Baleno' 700000]\n",
      " [29 'Business' 0 'Yes' 'No' 1100000 'Baleno' 700000]\n",
      " [33 'Salaried' 2 'No' 'No' 2200000 'City' 1200000]\n",
      " [34 'Salaried' 2 'No' 'Yes' 4100000 'Creata' 1500000]\n",
      " [34 'Business' 3 'Yes' 'Yes' 1900000 'Baleno' 700000]\n",
      " [35 'Salaried' 2 'No' 'No' 1400000 'i20' 800000]\n",
      " [36 'Salaried' 3 'Yes' 'Yes' 4900000 'SUV' 1600000]\n",
      " [37 'Salaried' 2 'No' 'Yes' 2800000 'City' 1200000]\n",
      " [27 'Salaried' 0 'No' 'No' 900000 'Baleno' 700000]\n",
      " [27 'Business' 0 'No' 'No' 2400000 'SUV' 1600000]\n",
      " [50 'Salaried' 3 'No' 'No' 5100000 'SUV' 1600000]\n",
      " [51 'Business' 2 'Yes' 'Yes' 2200000 'Ciaz' 1100000]\n",
      " [51 'Salaried' 2 'No' 'No' 4000000 'Creata' 1500000]\n",
      " [51 'Salaried' 2 'Yes' 'Yes' 2200000 'Ciaz' 1100000]]\n"
     ]
    }
   ],
   "source": [
    "EV_array=EV_df.values\n",
    "print(EV_array)"
   ]
  },
  {
   "cell_type": "code",
   "execution_count": 17,
   "id": "4ef7cf6f",
   "metadata": {},
   "outputs": [
    {
     "name": "stdout",
     "output_type": "stream",
     "text": [
      "[[27.0 'Salaried' 0.0 'Yes' 'No' 800000.0 'i20' 800000.0]\n",
      " [35.0 'Salaried' 2.0 'Yes' 'Yes' 2000000.0 'Ciaz' 1000000.0]\n",
      " [45.0 'Business' 4.0 'Yes' 'Yes' 1800000.0 'Duster' 1200000.0]\n",
      " [41.0 'Business' 3.0 'No' 'No' 2200000.0 'City' 1200000.0]\n",
      " [31.0 'Salaried' 2.0 'Yes' 'No' 2600000.0 'SUV' 1600000.0]\n",
      " [28.0 'Salaried' 3.0 'Yes' 'Yes' 900000.0 'Baleno' 700000.0]\n",
      " [31.0 'Salaried' 4.0 'No' 'No' 1800000.0 'City' 1200000.0]\n",
      " [33.0 'Business' 4.0 'No' 'No' 1400000.0 'Baleno' 700000.0]\n",
      " [34.0 'Business' 4.0 'No' 'No' 2000000.0 'Verna' 1100000.0]\n",
      " [34.0 'Salaried' 3.0 'Yes' 'Yes' 1900000.0 'i20' 800000.0]\n",
      " [35.0 'Salaried' 4.0 'No' 'No' 2000000.0 'SUV' 1600000.0]\n",
      " [35.0 'Salaried' 4.0 'Yes' 'Yes' 1400000.0 'Baleno' 700000.0]\n",
      " [29.0 'Salaried' 0.0 'No' 'No' 1700000.0 'Verna' 110000.0]\n",
      " [30.0 'Business' 2.0 'Yes' 'No' 1400000.0 'i20' 800000.0]\n",
      " [31.0 'Business' 3.0 'Yes' 'Yes' 1300000.0 'Baleno' 700000.0]\n",
      " [49.0 'Salaried' 4.0 'No' 'No' 4500000.0 'Luxuray' 3000000.0]\n",
      " [26.0 'Salaried' 0.0 'No' 'No' 800000.0 'i20' 800000.0]\n",
      " [27.0 'Salaried' 0.0 'Yes' 'No' 800000.0 'Baleno' 700000.0]\n",
      " [29.0 'Salaried' 2.0 'No' 'No' 900000.0 'City' 1200000.0]\n",
      " [30.0 'Salaried' 0.0 'No' 'No' 1300000.0 'Baleno' 700000.0]\n",
      " [37.0 'Salaried' 3.0 'No' 'Yes' 2500000.0 'City' 1200000.0]\n",
      " [35.0 'Business' 3.0 'No' 'Yes' 1900000.0 'i20' 800000.0]\n",
      " [36.0 'Business' 3.0 'No' 'No' 2400000.0 'SUV' 1600000.0]\n",
      " [35.0 'Business' 4.0 'No' 'No' 1400000.0 'Baleno' 700000.0]\n",
      " [35.0 'Salaried' 3.0 'Yes' 'No' 2000000.0 'Ciaz' 1100000.0]\n",
      " [35.0 'Salaried' 2.0 'No' 'No' 2900000.0 'SUV' 1600000.0]\n",
      " [35.0 'Salaried' 4.0 'Yes' 'Yes' 1300000.0 'Baleno' 700000.0]\n",
      " [36.0 'Business' 3.0 'No' 'No' 1600000.0 'i20' 800000.0]\n",
      " [36.0 'Salaried' 3.0 'Yes' 'Yes' 2600000.0 'Verna' 1200000.0]\n",
      " [36.0 'Salaried' 2.0 'No' 'No' 2700000.0 'SUV' 1600000.0]\n",
      " [41.0 'Business' 3.0 'No' 'No' 1100000.0 'Baleno' 700000.0]\n",
      " [41.0 'Salaried' 3.0 'No' 'No' 2100000.0 'Duster' 1300000.0]\n",
      " [41.0 'Salaried' 4.0 'No' 'Yes' 3000000.0 'Creata' 1500000.0]\n",
      " [43.0 'Business' 3.0 'No' 'No' 2200000.0 'Creata' 1500000.0]\n",
      " [42.0 'Salaried' 4.0 'Yes' 'Yes' 2100000.0 'Ciaz' 1100000.0]\n",
      " [42.0 'Salaried' 3.0 'No' 'No' 3700000.0 'SUV' 1600000.0]\n",
      " [29.0 'Business' 0.0 'No' 'No' 1600000.0 'City' 1200000.0]\n",
      " [30.0 'Salaried' 0.0 'No' 'No' 2100000.0 'Creata' 1500000.0]\n",
      " [30.0 'Business' 0.0 'No' 'No' 1400000.0 'SUV' 1600000.0]\n",
      " [31.0 'Salaried' 0.0 'No' 'No' 2200000.0 'Ciaz' 1100000.0]\n",
      " [31.0 'Business' 3.0 'Yes' 'Yes' 1700000.0 'i20' 800000.0]\n",
      " [32.0 'Business' 0.0 'No' 'No' 1400000.0 'Ciaz' 1100000.0]\n",
      " [32.0 'Salaried' 0.0 'No' 'No' 2400000.0 'SUV' 1600000.0]\n",
      " [34.0 'Salaried' 3.0 'No' 'No' 2300000.0 'Duster' 1300000.0]\n",
      " [34.0 'Salaried' 2.0 'Yes' 'Yes' 1600000.0 'i20' 800000.0]\n",
      " [34.0 'Salaried' 3.0 'No' 'Yes' 3600000.0 'Creata' 1500000.0]\n",
      " [36.0 'Business' 4.0 'No' 'No' 200000.0 'Ciaz' 1100000.0]\n",
      " [36.0 'Business' 2.0 'No' 'Yes' 2600000.0 'Duster' 1300000.0]\n",
      " [36.0 'Salaried' 2.0 'No' 'Yes' 1600000.0 'i20' 800000.0]\n",
      " [36.0 'Salaried' 3.0 'Yes' 'No' 3100000.0 'Creata' 1500000.0]\n",
      " [49.0 'Business' 4.0 'No' 'No' 2000000.0 'Duster' 1300000.0]\n",
      " [49.0 'Salaried' 3.0 'No' 'No' 4300000.0 'SUV' 1600000.0]\n",
      " [44.0 'Salaried' 4.0 'No' 'No' 2700000.0 'SUV' 1600000.0]\n",
      " [44.0 'Business' 3.0 'No' 'No' 3800000.0 'Creata' 1500000.0]\n",
      " [41.0 'Salaried' 2.0 'No' 'No' 4700000.0 'Luxuray' 3000000.0]\n",
      " [41.0 'Salaried' 3.0 'Yes' 'Yes' 3100000.0 'Creata' 1500000.0]\n",
      " [41.0 'Salaried' 3.0 'No' 'No' 2600000.0 'Ciaz' 1100000.0]\n",
      " [27.0 'Salaried' 0.0 'No' 'No' 1100000.0 'Baleno' 700000.0]\n",
      " [27.0 'Business' 0.0 'No' 'No' 1200000.0 'Ciaz' 1100000.0]\n",
      " [28.0 'Salaried' 0.0 'Yes' 'No' 900000.0 'Baleno' 700000.0]\n",
      " [28.0 'Salaried' 0.0 'No' 'No' 1400000.0 'City' 1200000.0]\n",
      " [30.0 'Salaried' 0.0 'No' 'No' 1500000.0 'Creata' 1500000.0]\n",
      " [31.0 'Business' 0.0 'No' 'No' 2000000.0 'SUV' 1500000.0]\n",
      " [31.0 'Salaried' 3.0 'Yes' 'Yes' 1800000.0 'Baleno' 700000.0]\n",
      " [31.0 'Salaried' 2.0 'No' 'Yes' 2100000.0 'Ciaz' 1100000.0]\n",
      " [39.0 'Business' 3.0 'No' 'No' 1600000.0 'Baleno' 700000.0]\n",
      " [39.0 'Business' 2.0 'Yes' 'Yes' 3600000.0 'Creata' 1500000.0]\n",
      " [39.0 'Salaried' 2.0 'No' 'No' 1900000.0 'City' 1200000.0]\n",
      " [39.0 'Salaried' 2.0 'Yes' 'Yes' 4000000.0 'Creata' 1500000.0]\n",
      " [37.0 'Business' 3.0 'No' 'No' 1700000.0 'Verna' 1200000.0]\n",
      " [37.0 'Business' 2.0 'No' 'No' 2700000.0 'Duster' 1500000.0]\n",
      " [37.0 'Salaried' 2.0 'No' 'Yes' 3200000.0 'SUV' 1600000.0]\n",
      " [37.0 'Salaried' 2.0 'No' 'No' 1300000.0 'Baleno' 700000.0]\n",
      " [35.0 'Salaried' 0.0 'No' 'No' 2500000.0 'SUV' 1600000.0]\n",
      " [36.0 'Business' 0.0 'No' 'No' 2000000.0 'City' 1200000.0]\n",
      " [36.0 'Salaried' 2.0 'No' 'No' 3600000.0 'Creata' 1500000.0]\n",
      " [36.0 'Business' 2.0 'Yes' 'Yes' 1900000.0 'i20' 800000.0]\n",
      " [36.0 'Business' 3.0 'No' 'Yes' 2900000.0 'SUV' 1600000.0]\n",
      " [44.0 'Salaried' 3.0 'No' 'No' 3100000.0 'Creata' 1500000.0]\n",
      " [45.0 'Salaried' 2.0 'No' 'Yes' 4500000.0 'SUV' 1600000.0]\n",
      " [46.0 'Salaried' 3.0 'Yes' 'Yes' 2100000.0 'Baleno' 800000.0]\n",
      " [44.0 'Business' 2.0 'No' 'No' 5200000.0 'SUV' 1600000.0]\n",
      " [43.0 'Salaried' 3.0 'Yes' 'Yes' 2400000.0 'Ciaz' 1100000.0]\n",
      " [42.0 'Salaried' 2.0 'No' 'Yes' 2900000.0 'Duster' 1300000.0]\n",
      " [42.0 'Salaried' 3.0 'Yes' 'Yes' 2700000.0 'i20' 800000.0]\n",
      " [42.0 'Business' 3.0 'Yes' 'Yes' 1800000.0 'Baleno' 700000.0]\n",
      " [29.0 'Business' 0.0 'Yes' 'No' 1100000.0 'Baleno' 700000.0]\n",
      " [33.0 'Salaried' 2.0 'No' 'No' 2200000.0 'City' 1200000.0]\n",
      " [34.0 'Salaried' 2.0 'No' 'Yes' 4100000.0 'Creata' 1500000.0]\n",
      " [34.0 'Business' 3.0 'Yes' 'Yes' 1900000.0 'Baleno' 700000.0]\n",
      " [35.0 'Salaried' 2.0 'No' 'No' 1400000.0 'i20' 800000.0]\n",
      " [36.0 'Salaried' 3.0 'Yes' 'Yes' 4900000.0 'SUV' 1600000.0]\n",
      " [37.0 'Salaried' 2.0 'No' 'Yes' 2800000.0 'City' 1200000.0]\n",
      " [27.0 'Salaried' 0.0 'No' 'No' 900000.0 'Baleno' 700000.0]\n",
      " [27.0 'Business' 0.0 'No' 'No' 2400000.0 'SUV' 1600000.0]\n",
      " [50.0 'Salaried' 3.0 'No' 'No' 5100000.0 'SUV' 1600000.0]\n",
      " [51.0 'Business' 2.0 'Yes' 'Yes' 2200000.0 'Ciaz' 1100000.0]\n",
      " [51.0 'Salaried' 2.0 'No' 'No' 4000000.0 'Creata' 1500000.0]\n",
      " [51.0 'Salaried' 2.0 'Yes' 'Yes' 2200000.0 'Ciaz' 1100000.0]]\n"
     ]
    }
   ],
   "source": [
    "EV_array[:, 0] = EV_array[:,0].astype(float)\n",
    "EV_array[:, 2] = EV_array[:,2].astype(float)\n",
    "EV_array[:, 5] = EV_array[:,5].astype(float)\n",
    "EV_array[:, 7] = EV_array[:,7].astype(float)\n",
    "print(EV_array)"
   ]
  },
  {
   "cell_type": "code",
   "execution_count": 51,
   "id": "478494ce",
   "metadata": {},
   "outputs": [
    {
     "name": "stdout",
     "output_type": "stream",
     "text": [
      "Init: initializing centroids\n",
      "Init: initializing clusters\n",
      "Starting iterations...\n",
      "Run: 1, iteration: 1/20, moves: 34, ncost: 34295068257990.527\n",
      "Run: 1, iteration: 2/20, moves: 18, ncost: 26514612474566.28\n",
      "Run: 1, iteration: 3/20, moves: 11, ncost: 23851801081754.543\n",
      "Run: 1, iteration: 4/20, moves: 4, ncost: 23604472803135.77\n",
      "Run: 1, iteration: 5/20, moves: 0, ncost: 23604472803135.77\n",
      "Init: initializing centroids\n",
      "Init: initializing clusters\n",
      "Starting iterations...\n",
      "Run: 2, iteration: 1/20, moves: 35, ncost: 19266423917959.727\n",
      "Run: 2, iteration: 2/20, moves: 3, ncost: 19107936297555.273\n",
      "Run: 2, iteration: 3/20, moves: 0, ncost: 19107936297555.273\n",
      "Init: initializing centroids\n",
      "Init: initializing clusters\n",
      "Starting iterations...\n",
      "Run: 3, iteration: 1/20, moves: 7, ncost: 18725890080533.203\n",
      "Run: 3, iteration: 2/20, moves: 2, ncost: 18691692301804.254\n",
      "Run: 3, iteration: 3/20, moves: 0, ncost: 18691692301804.254\n",
      "Init: initializing centroids\n",
      "Init: initializing clusters\n",
      "Init: initializing centroids\n",
      "Init: initializing clusters\n",
      "Init: initializing centroids\n",
      "Init: initializing clusters\n",
      "Starting iterations...\n",
      "Run: 4, iteration: 1/20, moves: 16, ncost: 20507469044966.656\n",
      "Run: 4, iteration: 2/20, moves: 11, ncost: 19054770305606.44\n",
      "Run: 4, iteration: 3/20, moves: 3, ncost: 18796600258038.55\n",
      "Run: 4, iteration: 4/20, moves: 3, ncost: 18678422142065.54\n",
      "Run: 4, iteration: 5/20, moves: 0, ncost: 18678422142065.54\n",
      "Init: initializing centroids\n",
      "Init: initializing clusters\n",
      "Starting iterations...\n",
      "Run: 5, iteration: 1/20, moves: 31, ncost: 26460593763653.65\n",
      "Run: 5, iteration: 2/20, moves: 10, ncost: 22868241628553.75\n",
      "Run: 5, iteration: 3/20, moves: 1, ncost: 22780652166590.41\n",
      "Run: 5, iteration: 4/20, moves: 21, ncost: 19017334146369.36\n",
      "Run: 5, iteration: 5/20, moves: 7, ncost: 18578321074916.793\n",
      "Run: 5, iteration: 6/20, moves: 3, ncost: 18491876136326.04\n",
      "Run: 5, iteration: 7/20, moves: 0, ncost: 18491876136326.04\n",
      "Init: initializing centroids\n",
      "Init: initializing clusters\n",
      "Init: initializing centroids\n",
      "Init: initializing clusters\n",
      "Starting iterations...\n",
      "Run: 6, iteration: 1/20, moves: 32, ncost: 19718387028255.855\n",
      "Run: 6, iteration: 2/20, moves: 3, ncost: 19515606857798.484\n",
      "Run: 6, iteration: 3/20, moves: 2, ncost: 19457463889724.81\n",
      "Run: 6, iteration: 4/20, moves: 0, ncost: 19457463889724.81\n",
      "Init: initializing centroids\n",
      "Init: initializing clusters\n",
      "Starting iterations...\n",
      "Run: 7, iteration: 1/20, moves: 13, ncost: 18620057196534.73\n",
      "Run: 7, iteration: 2/20, moves: 4, ncost: 18491876136326.04\n",
      "Run: 7, iteration: 3/20, moves: 0, ncost: 18491876136326.04\n",
      "Init: initializing centroids\n",
      "Init: initializing clusters\n",
      "Starting iterations...\n",
      "Run: 8, iteration: 1/20, moves: 9, ncost: 18709348501228.43\n",
      "Run: 8, iteration: 2/20, moves: 1, ncost: 18691692301804.254\n",
      "Run: 8, iteration: 3/20, moves: 0, ncost: 18691692301804.254\n",
      "Init: initializing centroids\n",
      "Init: initializing clusters\n",
      "Starting iterations...\n",
      "Run: 9, iteration: 1/20, moves: 38, ncost: 29306618837730.47\n",
      "Run: 9, iteration: 2/20, moves: 13, ncost: 23637120692212.754\n",
      "Run: 9, iteration: 3/20, moves: 12, ncost: 20522801002741.87\n",
      "Run: 9, iteration: 4/20, moves: 4, ncost: 20344939943126.07\n",
      "Run: 9, iteration: 5/20, moves: 0, ncost: 20344939943126.07\n",
      "Init: initializing centroids\n",
      "Init: initializing clusters\n",
      "Starting iterations...\n",
      "Run: 10, iteration: 1/20, moves: 8, ncost: 21125051194316.32\n",
      "Run: 10, iteration: 2/20, moves: 0, ncost: 21125051194316.32\n",
      "Best run was number 5\n",
      "KPrototypes(gamma=551321.1520961038, max_iter=20, n_clusters=4, verbose=2)\n"
     ]
    }
   ],
   "source": [
    "\n",
    " kproto = KPrototypes(n_clusters=4,verbose=2, max_iter=20)\n",
    "clusters = kproto.fit_predict(EV_array, categorical=[1,3,4,6])\n",
    "print(kproto)"
   ]
  },
  {
   "cell_type": "code",
   "execution_count": 52,
   "id": "46b7d962",
   "metadata": {},
   "outputs": [
    {
     "name": "stdout",
     "output_type": "stream",
     "text": [
      "[['37.22727272727273' '2.3181818181818183' '2745454.5454545454'\n",
      "  '1436363.6363636365' 'Salaried' 'No' 'No' 'SUV']\n",
      " ['36.94117647058823' '2.3529411764705883' '1970588.2352941176'\n",
      "  '1135294.1176470588' 'Salaried' 'No' 'No' 'Ciaz']\n",
      " ['31.678571428571427' '1.6785714285714286' '1207142.857142857'\n",
      "  '782500.0' 'Salaried' 'No' 'No' 'Baleno']\n",
      " ['42.2' '2.533333333333333' '4240000.0' '1740000.0' 'Salaried' 'No' 'No'\n",
      "  'Creata']]\n"
     ]
    }
   ],
   "source": [
    "print(kproto.cluster_centroids_)"
   ]
  },
  {
   "cell_type": "code",
   "execution_count": 53,
   "id": "8325e926",
   "metadata": {},
   "outputs": [
    {
     "name": "stdout",
     "output_type": "stream",
     "text": [
      "[2, 1, 1, 1, 0, 2, 1, 2, 1, 1, 1, 2, 2, 2, 2, 3, 2, 2, 2, 2, 0, 1, 0, 2, 1, 0, 2, 2, 0, 0, 2, 1, 0, 1, 1, 3, 1, 1, 1, 1, 1, 2, 0, 1, 2, 3, 2, 0, 2, 0, 1, 3, 0, 3, 3, 0, 0, 2, 2, 2, 2, 1, 1, 1, 1, 2, 3, 1, 3, 1, 0, 0, 2, 0, 1, 3, 1, 0, 0, 3, 1, 3, 1, 0, 0, 1, 2, 1, 3, 1, 2, 3, 0, 2, 0, 3, 1, 3, 1]\n"
     ]
    }
   ],
   "source": [
    "cluster_dic=[]\n",
    "for c in clusters:\n",
    "    cluster_dic.append(c)\n",
    "print(cluster_dic)"
   ]
  },
  {
   "cell_type": "code",
   "execution_count": 54,
   "id": "b5d055d6",
   "metadata": {},
   "outputs": [
    {
     "name": "stdout",
     "output_type": "stream",
     "text": [
      "    Age Profession  No of Dependents Personal loan House Loan  Total Salary  \\\n",
      "0    27   Salaried                 0           Yes         No        800000   \n",
      "1    35   Salaried                 2           Yes        Yes       2000000   \n",
      "2    45   Business                 4           Yes        Yes       1800000   \n",
      "3    41   Business                 3            No         No       2200000   \n",
      "4    31   Salaried                 2           Yes         No       2600000   \n",
      "..  ...        ...               ...           ...        ...           ...   \n",
      "94   27   Business                 0            No         No       2400000   \n",
      "95   50   Salaried                 3            No         No       5100000   \n",
      "96   51   Business                 2           Yes        Yes       2200000   \n",
      "97   51   Salaried                 2            No         No       4000000   \n",
      "98   51   Salaried                 2           Yes        Yes       2200000   \n",
      "\n",
      "      Make    Price  cluster  \n",
      "0      i20   800000        2  \n",
      "1     Ciaz  1000000        1  \n",
      "2   Duster  1200000        1  \n",
      "3     City  1200000        1  \n",
      "4      SUV  1600000        0  \n",
      "..     ...      ...      ...  \n",
      "94     SUV  1600000        0  \n",
      "95     SUV  1600000        3  \n",
      "96    Ciaz  1100000        1  \n",
      "97  Creata  1500000        3  \n",
      "98    Ciaz  1100000        1  \n",
      "\n",
      "[99 rows x 9 columns]\n"
     ]
    }
   ],
   "source": [
    "EV_df['cluster']=cluster_dic\n",
    "print(EV_df)\n"
   ]
  },
  {
   "cell_type": "code",
   "execution_count": 63,
   "id": "ce745161",
   "metadata": {},
   "outputs": [
    {
     "name": "stdout",
     "output_type": "stream",
     "text": [
      "    Age Profession  No of Dependents Personal loan House Loan  Total Salary  \\\n",
      "1    35   Salaried                 2           Yes        Yes       2000000   \n",
      "2    45   Business                 4           Yes        Yes       1800000   \n",
      "3    41   Business                 3            No         No       2200000   \n",
      "6    31   Salaried                 4            No         No       1800000   \n",
      "8    34   Business                 4            No         No       2000000   \n",
      "9    34   Salaried                 3           Yes        Yes       1900000   \n",
      "10   35   Salaried                 4            No         No       2000000   \n",
      "21   35   Business                 3            No        Yes       1900000   \n",
      "24   35   Salaried                 3           Yes         No       2000000   \n",
      "31   41   Salaried                 3            No         No       2100000   \n",
      "\n",
      "      Make    Price  cluster  \n",
      "1     Ciaz  1000000        1  \n",
      "2   Duster  1200000        1  \n",
      "3     City  1200000        1  \n",
      "6     City  1200000        1  \n",
      "8    Verna  1100000        1  \n",
      "9      i20   800000        1  \n",
      "10     SUV  1600000        1  \n",
      "21     i20   800000        1  \n",
      "24    Ciaz  1100000        1  \n",
      "31  Duster  1300000        1  \n"
     ]
    }
   ],
   "source": [
    "print(EV_df[EV_df['cluster']==1].head(10))"
   ]
  },
  {
   "cell_type": "code",
   "execution_count": 64,
   "id": "b35ba979",
   "metadata": {},
   "outputs": [
    {
     "name": "stdout",
     "output_type": "stream",
     "text": [
      "    Age Profession  No of Dependents Personal loan House Loan  Total Salary  \\\n",
      "0    27   Salaried                 0           Yes         No        800000   \n",
      "5    28   Salaried                 3           Yes        Yes        900000   \n",
      "7    33   Business                 4            No         No       1400000   \n",
      "11   35   Salaried                 4           Yes        Yes       1400000   \n",
      "12   29   Salaried                 0            No         No       1700000   \n",
      "13   30   Business                 2           Yes         No       1400000   \n",
      "14   31   Business                 3           Yes        Yes       1300000   \n",
      "16   26   Salaried                 0            No         No        800000   \n",
      "17   27   Salaried                 0           Yes         No        800000   \n",
      "18   29   Salaried                 2            No         No        900000   \n",
      "\n",
      "      Make    Price  cluster  \n",
      "0      i20   800000        2  \n",
      "5   Baleno   700000        2  \n",
      "7   Baleno   700000        2  \n",
      "11  Baleno   700000        2  \n",
      "12   Verna   110000        2  \n",
      "13     i20   800000        2  \n",
      "14  Baleno   700000        2  \n",
      "16     i20   800000        2  \n",
      "17  Baleno   700000        2  \n",
      "18    City  1200000        2  \n"
     ]
    }
   ],
   "source": [
    "print(EV_df[EV_df['cluster']==2].head(10))"
   ]
  },
  {
   "cell_type": "code",
   "execution_count": 65,
   "id": "ccb75fd5",
   "metadata": {},
   "outputs": [
    {
     "name": "stdout",
     "output_type": "stream",
     "text": [
      "    Age Profession  No of Dependents Personal loan House Loan  Total Salary  \\\n",
      "15   49   Salaried                 4            No         No       4500000   \n",
      "35   42   Salaried                 3            No         No       3700000   \n",
      "45   34   Salaried                 3            No        Yes       3600000   \n",
      "51   49   Salaried                 3            No         No       4300000   \n",
      "53   44   Business                 3            No         No       3800000   \n",
      "54   41   Salaried                 2            No         No       4700000   \n",
      "66   39   Business                 2           Yes        Yes       3600000   \n",
      "68   39   Salaried                 2           Yes        Yes       4000000   \n",
      "75   36   Salaried                 2            No         No       3600000   \n",
      "79   45   Salaried                 2            No        Yes       4500000   \n",
      "\n",
      "       Make    Price  cluster  \n",
      "15  Luxuray  3000000        3  \n",
      "35      SUV  1600000        3  \n",
      "45   Creata  1500000        3  \n",
      "51      SUV  1600000        3  \n",
      "53   Creata  1500000        3  \n",
      "54  Luxuray  3000000        3  \n",
      "66   Creata  1500000        3  \n",
      "68   Creata  1500000        3  \n",
      "75   Creata  1500000        3  \n",
      "79      SUV  1600000        3  \n"
     ]
    }
   ],
   "source": [
    "print(EV_df[EV_df['cluster']==3].head(10))"
   ]
  },
  {
   "cell_type": "code",
   "execution_count": 80,
   "id": "11c94ac1",
   "metadata": {},
   "outputs": [
    {
     "name": "stdout",
     "output_type": "stream",
     "text": [
      "<matplotlib.collections.PathCollection object at 0x0000010B854D6A30>\n"
     ]
    },
    {
     "data": {
      "image/png": "[encoded data removed]",
      "text/plain": [
       "<Figure size 432x288 with 1 Axes>"
      ]
     },
     "metadata": {
      "needs_background": "light"
     },
     "output_type": "display_data"
    }
   ],
   "source": [
    "from matplotlib import pyplot as plt\n",
    "print(plt.scatter(EV_df.Age ,EV_df[\"cluster\"]))"
   ]
  },
  {
   "cell_type": "code",
   "execution_count": 79,
   "id": "9c29dafc",
   "metadata": {},
   "outputs": [
    {
     "ename": "ValueError",
     "evalue": "x and y must be the same size",
     "output_type": "error",
     "traceback": [
      "\u001b[1;31m---------------------------------------------------------------------------\u001b[0m",
      "\u001b[1;31mValueError\u001b[0m                                Traceback (most recent call last)",
      "\u001b[1;32m<ipython-input-79-876b41909985>\u001b[0m in \u001b[0;36m<module>\u001b[1;34m\u001b[0m\n\u001b[0;32m      2\u001b[0m \u001b[0mdf2\u001b[0m\u001b[1;33m=\u001b[0m \u001b[0mEV_df\u001b[0m\u001b[1;33m[\u001b[0m\u001b[0mEV_df\u001b[0m\u001b[1;33m.\u001b[0m\u001b[0mcluster\u001b[0m\u001b[1;33m==\u001b[0m\u001b[1;36m2\u001b[0m\u001b[1;33m]\u001b[0m\u001b[1;33m\u001b[0m\u001b[1;33m\u001b[0m\u001b[0m\n\u001b[0;32m      3\u001b[0m \u001b[0mdf3\u001b[0m\u001b[1;33m=\u001b[0m \u001b[0mEV_df\u001b[0m\u001b[1;33m[\u001b[0m\u001b[0mEV_df\u001b[0m\u001b[1;33m.\u001b[0m\u001b[0mcluster\u001b[0m\u001b[1;33m==\u001b[0m\u001b[1;36m3\u001b[0m\u001b[1;33m]\u001b[0m\u001b[1;33m\u001b[0m\u001b[1;33m\u001b[0m\u001b[0m\n\u001b[1;32m----> 4\u001b[1;33m \u001b[0mprint\u001b[0m\u001b[1;33m(\u001b[0m\u001b[0mplt\u001b[0m\u001b[1;33m.\u001b[0m\u001b[0mscatter\u001b[0m\u001b[1;33m(\u001b[0m\u001b[0mdf1\u001b[0m\u001b[1;33m.\u001b[0m\u001b[0mAge\u001b[0m \u001b[1;33m,\u001b[0m\u001b[0mEV_df\u001b[0m\u001b[1;33m[\u001b[0m\u001b[1;34m\"Total Salary\"\u001b[0m\u001b[1;33m]\u001b[0m\u001b[1;33m,\u001b[0m \u001b[0mcolor\u001b[0m\u001b[1;33m=\u001b[0m\u001b[1;34m'blue'\u001b[0m\u001b[1;33m)\u001b[0m\u001b[1;33m)\u001b[0m\u001b[1;33m\u001b[0m\u001b[1;33m\u001b[0m\u001b[0m\n\u001b[0m\u001b[0;32m      5\u001b[0m \u001b[0mprint\u001b[0m\u001b[1;33m(\u001b[0m\u001b[0mplt\u001b[0m\u001b[1;33m.\u001b[0m\u001b[0mscatter\u001b[0m\u001b[1;33m(\u001b[0m\u001b[0mdf2\u001b[0m\u001b[1;33m.\u001b[0m\u001b[0mAge\u001b[0m \u001b[1;33m,\u001b[0m\u001b[0mEV_df\u001b[0m\u001b[1;33m[\u001b[0m\u001b[1;34m\"Total Salary\"\u001b[0m\u001b[1;33m]\u001b[0m\u001b[1;33m,\u001b[0m \u001b[0mcolor\u001b[0m\u001b[1;33m=\u001b[0m\u001b[1;34m'red'\u001b[0m\u001b[1;33m)\u001b[0m\u001b[1;33m)\u001b[0m\u001b[1;33m\u001b[0m\u001b[1;33m\u001b[0m\u001b[0m\n\u001b[0;32m      6\u001b[0m \u001b[0mprint\u001b[0m\u001b[1;33m(\u001b[0m\u001b[0mplt\u001b[0m\u001b[1;33m.\u001b[0m\u001b[0mscatter\u001b[0m\u001b[1;33m(\u001b[0m\u001b[0mdf3\u001b[0m\u001b[1;33m.\u001b[0m\u001b[0mAge\u001b[0m \u001b[1;33m,\u001b[0m\u001b[0mEV_df\u001b[0m\u001b[1;33m[\u001b[0m\u001b[1;34m\"Total Salary\"\u001b[0m\u001b[1;33m]\u001b[0m\u001b[1;33m,\u001b[0m\u001b[0mcolor\u001b[0m\u001b[1;33m=\u001b[0m\u001b[1;34m'green'\u001b[0m\u001b[1;33m)\u001b[0m\u001b[1;33m)\u001b[0m\u001b[1;33m\u001b[0m\u001b[1;33m\u001b[0m\u001b[0m\n",
      "\u001b[1;32m~\\anaconda3\\lib\\site-packages\\matplotlib\\pyplot.py\u001b[0m in \u001b[0;36mscatter\u001b[1;34m(x, y, s, c, marker, cmap, norm, vmin, vmax, alpha, linewidths, verts, edgecolors, plotnonfinite, data, **kwargs)\u001b[0m\n\u001b[0;32m   2888\u001b[0m         \u001b[0mverts\u001b[0m\u001b[1;33m=\u001b[0m\u001b[0mcbook\u001b[0m\u001b[1;33m.\u001b[0m\u001b[0mdeprecation\u001b[0m\u001b[1;33m.\u001b[0m\u001b[0m_deprecated_parameter\u001b[0m\u001b[1;33m,\u001b[0m\u001b[1;33m\u001b[0m\u001b[1;33m\u001b[0m\u001b[0m\n\u001b[0;32m   2889\u001b[0m         edgecolors=None, *, plotnonfinite=False, data=None, **kwargs):\n\u001b[1;32m-> 2890\u001b[1;33m     __ret = gca().scatter(\n\u001b[0m\u001b[0;32m   2891\u001b[0m         \u001b[0mx\u001b[0m\u001b[1;33m,\u001b[0m \u001b[0my\u001b[0m\u001b[1;33m,\u001b[0m \u001b[0ms\u001b[0m\u001b[1;33m=\u001b[0m\u001b[0ms\u001b[0m\u001b[1;33m,\u001b[0m \u001b[0mc\u001b[0m\u001b[1;33m=\u001b[0m\u001b[0mc\u001b[0m\u001b[1;33m,\u001b[0m \u001b[0mmarker\u001b[0m\u001b[1;33m=\u001b[0m\u001b[0mmarker\u001b[0m\u001b[1;33m,\u001b[0m \u001b[0mcmap\u001b[0m\u001b[1;33m=\u001b[0m\u001b[0mcmap\u001b[0m\u001b[1;33m,\u001b[0m \u001b[0mnorm\u001b[0m\u001b[1;33m=\u001b[0m\u001b[0mnorm\u001b[0m\u001b[1;33m,\u001b[0m\u001b[1;33m\u001b[0m\u001b[1;33m\u001b[0m\u001b[0m\n\u001b[0;32m   2892\u001b[0m         \u001b[0mvmin\u001b[0m\u001b[1;33m=\u001b[0m\u001b[0mvmin\u001b[0m\u001b[1;33m,\u001b[0m \u001b[0mvmax\u001b[0m\u001b[1;33m=\u001b[0m\u001b[0mvmax\u001b[0m\u001b[1;33m,\u001b[0m \u001b[0malpha\u001b[0m\u001b[1;33m=\u001b[0m\u001b[0malpha\u001b[0m\u001b[1;33m,\u001b[0m \u001b[0mlinewidths\u001b[0m\u001b[1;33m=\u001b[0m\u001b[0mlinewidths\u001b[0m\u001b[1;33m,\u001b[0m\u001b[1;33m\u001b[0m\u001b[1;33m\u001b[0m\u001b[0m\n",
      "\u001b[1;32m~\\anaconda3\\lib\\site-packages\\matplotlib\\__init__.py\u001b[0m in \u001b[0;36minner\u001b[1;34m(ax, data, *args, **kwargs)\u001b[0m\n\u001b[0;32m   1445\u001b[0m     \u001b[1;32mdef\u001b[0m \u001b[0minner\u001b[0m\u001b[1;33m(\u001b[0m\u001b[0max\u001b[0m\u001b[1;33m,\u001b[0m \u001b[1;33m*\u001b[0m\u001b[0margs\u001b[0m\u001b[1;33m,\u001b[0m \u001b[0mdata\u001b[0m\u001b[1;33m=\u001b[0m\u001b[1;32mNone\u001b[0m\u001b[1;33m,\u001b[0m \u001b[1;33m**\u001b[0m\u001b[0mkwargs\u001b[0m\u001b[1;33m)\u001b[0m\u001b[1;33m:\u001b[0m\u001b[1;33m\u001b[0m\u001b[1;33m\u001b[0m\u001b[0m\n\u001b[0;32m   1446\u001b[0m         \u001b[1;32mif\u001b[0m \u001b[0mdata\u001b[0m \u001b[1;32mis\u001b[0m \u001b[1;32mNone\u001b[0m\u001b[1;33m:\u001b[0m\u001b[1;33m\u001b[0m\u001b[1;33m\u001b[0m\u001b[0m\n\u001b[1;32m-> 1447\u001b[1;33m             \u001b[1;32mreturn\u001b[0m \u001b[0mfunc\u001b[0m\u001b[1;33m(\u001b[0m\u001b[0max\u001b[0m\u001b[1;33m,\u001b[0m \u001b[1;33m*\u001b[0m\u001b[0mmap\u001b[0m\u001b[1;33m(\u001b[0m\u001b[0msanitize_sequence\u001b[0m\u001b[1;33m,\u001b[0m \u001b[0margs\u001b[0m\u001b[1;33m)\u001b[0m\u001b[1;33m,\u001b[0m \u001b[1;33m**\u001b[0m\u001b[0mkwargs\u001b[0m\u001b[1;33m)\u001b[0m\u001b[1;33m\u001b[0m\u001b[1;33m\u001b[0m\u001b[0m\n\u001b[0m\u001b[0;32m   1448\u001b[0m \u001b[1;33m\u001b[0m\u001b[0m\n\u001b[0;32m   1449\u001b[0m         \u001b[0mbound\u001b[0m \u001b[1;33m=\u001b[0m \u001b[0mnew_sig\u001b[0m\u001b[1;33m.\u001b[0m\u001b[0mbind\u001b[0m\u001b[1;33m(\u001b[0m\u001b[0max\u001b[0m\u001b[1;33m,\u001b[0m \u001b[1;33m*\u001b[0m\u001b[0margs\u001b[0m\u001b[1;33m,\u001b[0m \u001b[1;33m**\u001b[0m\u001b[0mkwargs\u001b[0m\u001b[1;33m)\u001b[0m\u001b[1;33m\u001b[0m\u001b[1;33m\u001b[0m\u001b[0m\n",
      "\u001b[1;32m~\\anaconda3\\lib\\site-packages\\matplotlib\\cbook\\deprecation.py\u001b[0m in \u001b[0;36mwrapper\u001b[1;34m(*inner_args, **inner_kwargs)\u001b[0m\n\u001b[0;32m    409\u001b[0m                          \u001b[1;32melse\u001b[0m \u001b[0mdeprecation_addendum\u001b[0m\u001b[1;33m,\u001b[0m\u001b[1;33m\u001b[0m\u001b[1;33m\u001b[0m\u001b[0m\n\u001b[0;32m    410\u001b[0m                 **kwargs)\n\u001b[1;32m--> 411\u001b[1;33m         \u001b[1;32mreturn\u001b[0m \u001b[0mfunc\u001b[0m\u001b[1;33m(\u001b[0m\u001b[1;33m*\u001b[0m\u001b[0minner_args\u001b[0m\u001b[1;33m,\u001b[0m \u001b[1;33m**\u001b[0m\u001b[0minner_kwargs\u001b[0m\u001b[1;33m)\u001b[0m\u001b[1;33m\u001b[0m\u001b[1;33m\u001b[0m\u001b[0m\n\u001b[0m\u001b[0;32m    412\u001b[0m \u001b[1;33m\u001b[0m\u001b[0m\n\u001b[0;32m    413\u001b[0m     \u001b[1;32mreturn\u001b[0m \u001b[0mwrapper\u001b[0m\u001b[1;33m\u001b[0m\u001b[1;33m\u001b[0m\u001b[0m\n",
      "\u001b[1;32m~\\anaconda3\\lib\\site-packages\\matplotlib\\axes\\_axes.py\u001b[0m in \u001b[0;36mscatter\u001b[1;34m(self, x, y, s, c, marker, cmap, norm, vmin, vmax, alpha, linewidths, verts, edgecolors, plotnonfinite, **kwargs)\u001b[0m\n\u001b[0;32m   4439\u001b[0m         \u001b[0my\u001b[0m \u001b[1;33m=\u001b[0m \u001b[0mnp\u001b[0m\u001b[1;33m.\u001b[0m\u001b[0mma\u001b[0m\u001b[1;33m.\u001b[0m\u001b[0mravel\u001b[0m\u001b[1;33m(\u001b[0m\u001b[0my\u001b[0m\u001b[1;33m)\u001b[0m\u001b[1;33m\u001b[0m\u001b[1;33m\u001b[0m\u001b[0m\n\u001b[0;32m   4440\u001b[0m         \u001b[1;32mif\u001b[0m \u001b[0mx\u001b[0m\u001b[1;33m.\u001b[0m\u001b[0msize\u001b[0m \u001b[1;33m!=\u001b[0m \u001b[0my\u001b[0m\u001b[1;33m.\u001b[0m\u001b[0msize\u001b[0m\u001b[1;33m:\u001b[0m\u001b[1;33m\u001b[0m\u001b[1;33m\u001b[0m\u001b[0m\n\u001b[1;32m-> 4441\u001b[1;33m             \u001b[1;32mraise\u001b[0m \u001b[0mValueError\u001b[0m\u001b[1;33m(\u001b[0m\u001b[1;34m\"x and y must be the same size\"\u001b[0m\u001b[1;33m)\u001b[0m\u001b[1;33m\u001b[0m\u001b[1;33m\u001b[0m\u001b[0m\n\u001b[0m\u001b[0;32m   4442\u001b[0m \u001b[1;33m\u001b[0m\u001b[0m\n\u001b[0;32m   4443\u001b[0m         \u001b[1;32mif\u001b[0m \u001b[0ms\u001b[0m \u001b[1;32mis\u001b[0m \u001b[1;32mNone\u001b[0m\u001b[1;33m:\u001b[0m\u001b[1;33m\u001b[0m\u001b[1;33m\u001b[0m\u001b[0m\n",
      "\u001b[1;31mValueError\u001b[0m: x and y must be the same size"
     ]
    },
    {
     "data": {
      "image/png": "[encoded data removed]",
      "text/plain": [
       "<Figure size 432x288 with 1 Axes>"
      ]
     },
     "metadata": {
      "needs_background": "light"
     },
     "output_type": "display_data"
    }
   ],
   "source": [
    "\n"
   ]
  },
  {
   "cell_type": "code",
   "execution_count": null,
   "id": "f89ed591",
   "metadata": {},
   "outputs": [],
   "source": []
  }
 ],
 "metadata": {
  "kernelspec": {
   "display_name": "Python 3",
   "language": "python",
   "name": "python3"
  },
  "language_info": {
   "codemirror_mode": {
    "name": "ipython",
    "version": 3
   },
   "file_extension": ".py",
   "mimetype": "text/x-python",
   "name": "python",
   "nbconvert_exporter": "python",
   "pygments_lexer": "ipython3",
   "version": "3.8.8"
  }
 },
 "nbformat": 4,
 "nbformat_minor": 5
}
